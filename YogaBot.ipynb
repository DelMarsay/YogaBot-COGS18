{
 "cells": [
  {
   "cell_type": "markdown",
   "id": "219455c6",
   "metadata": {},
   "source": [
    "# YogaBot"
   ]
  },
  {
   "cell_type": "markdown",
   "id": "5815df51",
   "metadata": {},
   "source": [
    "I chose to do a chatbot related to yoga. I chose this subject because working on assignment three was fun \n",
    "and because I recently completed a 200-hour yoga teacher training - I am officially a yoga teacher!\n",
    "This project is a chatbot that is targeted for those who are new to yoga and who would like to explore \n",
    "some various poses (asanas) in the comfort of their home with the goal of eventually participating\n",
    "in an in-person class. Within the chat the user (student) will be asked to name a body part/muscle group such \n",
    "as arms, glutes, back, that they wish to work on and an image demostrating how to execute the pose will be shown. \n",
    "A total of three random pose options for eight areas of the body will be provided. This will allow them\n",
    "to try the poses at home and discover if they need to modify anything for their unique body prior to attending a class. Another feature of this chatbot is that it will offer the student an opportunity to be added to an \n",
    "in-person class by asking them what day works best for them. And finally, a function was added to offer \n",
    "the student the option to be matched with a yoga 'buddy' who can be of support while attending class. \n",
    "\n",
    "Please note: that each class has a capacity of eight students and only one class if offered per day. \n",
    "If the student chooses a day that has a full capacity class it will return \n",
    "\"Sorry, class is full. Choose another day.\"\n",
    "Also, the 'buddy' is a current active member of the yoga studio who is randomly selected. This feature is optional\n",
    "and a different 'buddy' may be randomly assigned for future classes. \n",
    "Since yoga is fun and something that is good for the soul I decided to add a few jokes. The chat will \n",
    "spit out a joke after an unknown input or if student types in the word 'joke'. My favorite one:\n",
    "What is stretchy and has four wheels? My yoga pants. I lied about the wheels. \n"
   ]
  },
  {
   "cell_type": "markdown",
   "id": "882af5fb",
   "metadata": {},
   "source": [
    "Keyword Guide:\n",
    "1. buddy - to be paired with a random yoga buddy to meet in class for support\n",
    "2. day of the week - typing the name of a day of the week to be added to an in-person class\n",
    "3. body part inputs -  arms, shoulders, chest, back, abs, glutes, hips, legs: \n",
    "to view an image that demonstrates how the pose should be done for that body part\n",
    "4. joke - because, why not? ;)"
   ]
  },
  {
   "cell_type": "markdown",
   "id": "67ac8b94",
   "metadata": {},
   "source": [
    "# Project Code"
   ]
  },
  {
   "cell_type": "code",
   "execution_count": 1,
   "id": "88a81638",
   "metadata": {},
   "outputs": [],
   "source": [
    "from functions import *\n",
    "from test_functions import *"
   ]
  },
  {
   "cell_type": "code",
   "execution_count": 4,
   "id": "91b89b55",
   "metadata": {},
   "outputs": [],
   "source": [
    "have_a_chat()"
   ]
  },
  {
   "cell_type": "markdown",
   "id": "a9729ba6",
   "metadata": {},
   "source": [
    "# Extra Credit"
   ]
  },
  {
   "cell_type": "markdown",
   "id": "06389d76",
   "metadata": {},
   "source": [
    "This class taught me that it is never too late to push your limits and learn something outside your comfort zone.  I always steered away from learning anything computer related. In fact, I got through my years at community college without even knowing how to use a google doc. That being said, I had zero experience with Python prior to taking this course. I was excited about learning how to code while knowing that it would be challenging. Overall it took me approximately 40+ hours throughout a period of five days to complete this project. It took longer than I had anticipated because I had to rewatch several lectures and I struggled to understand how to write meaningful tests functions for my chatbot.  Working on this project was fun, tedious, time consuming, and challenging (did I mention it was super challenging? 😫). \n",
    "In this project I got to practice refactoring my code which is something I hadn’t really done before throughout the course. I also learned/discovered how to incorporate an API reference. It was exciting to be able to extract images of yoga poses using something created by someone else! I wanted to make my project as nonbasic as I possibly could given my current knowledge and time I had and I believe I accomplished that. \n",
    "At the end of the last lecture we were asked about our confidence level and future computer programming endeavors. I chose the “middle” (mas-o-menos) answer for confidence level and therefore wish to pursue more knowledge...because Python is not only useful but, pretty fun!  "
   ]
  }
 ],
 "metadata": {
  "kernelspec": {
   "display_name": "Python 3 (ipykernel)",
   "language": "python",
   "name": "python3"
  },
  "language_info": {
   "codemirror_mode": {
    "name": "ipython",
    "version": 3
   },
   "file_extension": ".py",
   "mimetype": "text/x-python",
   "name": "python",
   "nbconvert_exporter": "python",
   "pygments_lexer": "ipython3",
   "version": "3.9.5"
  }
 },
 "nbformat": 4,
 "nbformat_minor": 5
}
